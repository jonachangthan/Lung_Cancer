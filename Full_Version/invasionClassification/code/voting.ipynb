{
 "cells": [
  {
   "cell_type": "code",
   "execution_count": 1,
   "metadata": {},
   "outputs": [],
   "source": [
    "from sklearn.metrics import confusion_matrix\n",
    "import matplotlib.pyplot as plt\n",
    "import numpy as np\n",
    "import joblib\n",
    "import os\n",
    "from sklearn.metrics import accuracy_score\n",
    "\n",
    "testing_dir = \"data/cross_validation/folder1/test\"\n",
    "\n",
    "# load testing data\n",
    "npy_files = os.listdir(testing_dir)\n",
    "testing_npy_files = [f for f in npy_files if (f.endswith(\"nodule_features.npy\") or f.endswith(\"vessel_features.npy\"))]\n",
    "\n",
    "testing_npy_list = []\n",
    "for npy_file in testing_npy_files:\n",
    "    npy_path = os.path.join(testing_dir, npy_file)\n",
    "    npy_array = np.load(npy_path)\n",
    "    testing_npy_list.append(npy_array)\n",
    "\n",
    "testing_features = np.concatenate(testing_npy_list, axis=0)\n",
    "\n",
    "X_test = testing_features[:, :-1]\n",
    "y_test = testing_features[:, -1]\n",
    "\n",
    "# adjust label domain\n",
    "y_test -= 1\n"
   ]
  },
  {
   "cell_type": "code",
   "execution_count": 2,
   "metadata": {},
   "outputs": [
    {
     "data": {
      "text/plain": [
       "array([0., 0., 0., ..., 0., 0., 1.])"
      ]
     },
     "execution_count": 2,
     "metadata": {},
     "output_type": "execute_result"
    }
   ],
   "source": [
    "model_dir = \"vn2\"\n",
    "model_names = os.listdir(model_dir)\n",
    "model_names = [f for f in model_names if f.endswith(\".joblib\")]\n",
    "\n",
    "# Load 15 saved models into a list\n",
    "model_list = []\n",
    "\n",
    "for model in model_names:\n",
    "        model_path = os.path.join(model_dir, model)\n",
    "        m = joblib.load(model_path)\n",
    "        model_list.append(m)\n",
    "\n",
    "# Get predictions from each model\n",
    "predictions = []\n",
    "for model in model_list:\n",
    "    prediction = model.predict(X_test)\n",
    "    predictions.append(prediction)\n",
    "\n",
    "# Take the majority vote to determine final prediction\n",
    "final_prediction = np.round(np.mean(predictions, axis=0))\n",
    "final_prediction"
   ]
  },
  {
   "cell_type": "code",
   "execution_count": 3,
   "metadata": {},
   "outputs": [
    {
     "name": "stdout",
     "output_type": "stream",
     "text": [
      "0.8601951891937824\n",
      "[[264959  39128]\n",
      " [  5294   8362]]\n"
     ]
    }
   ],
   "source": [
    "accuracy = accuracy_score(y_test, final_prediction)\n",
    "print(accuracy)\n",
    "\n",
    "cm = confusion_matrix(y_test, final_prediction)\n",
    "print(cm)"
   ]
  }
 ],
 "metadata": {
  "kernelspec": {
   "display_name": "Python 3",
   "language": "python",
   "name": "python3"
  },
  "language_info": {
   "codemirror_mode": {
    "name": "ipython",
    "version": 3
   },
   "file_extension": ".py",
   "mimetype": "text/x-python",
   "name": "python",
   "nbconvert_exporter": "python",
   "pygments_lexer": "ipython3",
   "version": "3.10.3"
  },
  "orig_nbformat": 4
 },
 "nbformat": 4,
 "nbformat_minor": 2
}
