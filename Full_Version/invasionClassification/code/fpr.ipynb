{
 "cells": [
  {
   "cell_type": "code",
   "execution_count": 3,
   "metadata": {},
   "outputs": [],
   "source": [
    "from sklearn.metrics import confusion_matrix\n",
    "import matplotlib.pyplot as plt\n",
    "import numpy as np\n",
    "import joblib\n",
    "import os\n",
    "from sklearn.metrics import accuracy_score\n",
    "\n",
    "testing_dir = \"data/cross_validation/folder1/test\"\n",
    "\n",
    "# load testing data\n",
    "npy_files = os.listdir(testing_dir)\n",
    "testing_npy_files = [f for f in npy_files if f.endswith(\"features.npy\")]\n",
    "\n",
    "testing_npy_list = []\n",
    "for npy_file in testing_npy_files:\n",
    "    npy_path = os.path.join(testing_dir, npy_file)\n",
    "    npy_array = np.load(npy_path)\n",
    "    testing_npy_list.append(npy_array)\n",
    "\n",
    "testing_features = np.concatenate(testing_npy_list, axis=0)\n",
    "\n",
    "X_test = testing_features[:, :-1]\n",
    "y_test = testing_features[:, -1]\n",
    "\n",
    "# load rf model\n",
    "rf = joblib.load(\"0_random_forest_0.85487.joblib\")\n"
   ]
  },
  {
   "cell_type": "code",
   "execution_count": 4,
   "metadata": {},
   "outputs": [
    {
     "name": "stdout",
     "output_type": "stream",
     "text": [
      "0.8548694981046204\n",
      "[[2362245   49648   85473]\n",
      " [ 237613   38047   28852]\n",
      " [   3743    3099    5492]]\n"
     ]
    }
   ],
   "source": [
    "# generate predictions on the test set\n",
    "y_pred = rf.predict(X_test)\n",
    "\n",
    "accuracy = accuracy_score(y_test, y_pred)\n",
    "print(accuracy)\n",
    "\n",
    "cm = confusion_matrix(y_test, y_pred)\n",
    "print(cm)"
   ]
  }
 ],
 "metadata": {
  "kernelspec": {
   "display_name": "Python 3",
   "language": "python",
   "name": "python3"
  },
  "language_info": {
   "codemirror_mode": {
    "name": "ipython",
    "version": 3
   },
   "file_extension": ".py",
   "mimetype": "text/x-python",
   "name": "python",
   "nbconvert_exporter": "python",
   "pygments_lexer": "ipython3",
   "version": "3.10.3"
  },
  "orig_nbformat": 4
 },
 "nbformat": 4,
 "nbformat_minor": 2
}
