{
 "cells": [
  {
   "attachments": {},
   "cell_type": "markdown",
   "metadata": {},
   "source": [
    "## down sampling the features"
   ]
  },
  {
   "attachments": {},
   "cell_type": "markdown",
   "metadata": {},
   "source": [
    "#### read folder 1 training nodule features"
   ]
  },
  {
   "cell_type": "code",
   "execution_count": 4,
   "metadata": {},
   "outputs": [
    {
     "name": "stdout",
     "output_type": "stream",
     "text": [
      "(77779, 6)\n"
     ]
    }
   ],
   "source": [
    "import numpy as np\n",
    "import os\n",
    "\n",
    "# Path to directory containing .npy files\n",
    "training_dir = \"data/cross_validation/folder1/train\"\n",
    "\n",
    "# List all .npy files in directory\n",
    "npy_files = os.listdir(training_dir)\n",
    "nodule_npy_files = [f for f in npy_files if f.endswith(\"nodule_features.npy\")]\n",
    "\n",
    "# Load each .npy file and store in a list\n",
    "nodule_npy_list = []\n",
    "for npy_file in nodule_npy_files:\n",
    "    npy_path = os.path.join(training_dir, npy_file)\n",
    "    npy_array = np.load(npy_path)\n",
    "    nodule_npy_list.append(npy_array)\n",
    "\n",
    "# Combine the list of numpy arrays into a single numpy array\n",
    "nodule_features = np.concatenate(nodule_npy_list, axis=0)\n",
    "\n",
    "print(nodule_features.shape)\n"
   ]
  },
  {
   "attachments": {},
   "cell_type": "markdown",
   "metadata": {},
   "source": [
    "#### read vessel featrues"
   ]
  },
  {
   "cell_type": "code",
   "execution_count": 5,
   "metadata": {},
   "outputs": [
    {
     "name": "stdout",
     "output_type": "stream",
     "text": [
      "(1206564, 6)\n"
     ]
    }
   ],
   "source": [
    "# List all .npy files in directory\n",
    "npy_files = os.listdir(training_dir)\n",
    "vessel_npy_files = [f for f in npy_files if f.endswith(\"vessel_features.npy\")]\n",
    "\n",
    "# Load each .npy file and store in a list\n",
    "vessel_npy_list = []\n",
    "for npy_file in vessel_npy_files:\n",
    "    npy_path = os.path.join(training_dir, npy_file)\n",
    "    npy_array = np.load(npy_path)\n",
    "    vessel_npy_list.append(npy_array)\n",
    "\n",
    "# Combine the list of numpy arrays into a single numpy array\n",
    "vessel_features = np.concatenate(vessel_npy_list, axis=0)\n",
    "\n",
    "print(vessel_features.shape)"
   ]
  },
  {
   "attachments": {},
   "cell_type": "markdown",
   "metadata": {},
   "source": [
    "#### read lung features"
   ]
  },
  {
   "cell_type": "code",
   "execution_count": 6,
   "metadata": {},
   "outputs": [
    {
     "name": "stdout",
     "output_type": "stream",
     "text": [
      "(11143953, 6)\n"
     ]
    }
   ],
   "source": [
    "# List all .npy files in directory\n",
    "npy_files = os.listdir(training_dir)\n",
    "lung_npy_files = [f for f in npy_files if f.endswith(\"lung_features.npy\")]\n",
    "\n",
    "# Load each .npy file and store in a list\n",
    "lung_npy_list = []\n",
    "for npy_file in lung_npy_files:\n",
    "    npy_path = os.path.join(training_dir, npy_file)\n",
    "    npy_array = np.load(npy_path)\n",
    "    lung_npy_list.append(npy_array)\n",
    "\n",
    "# Combine the list of numpy arrays into a single numpy array\n",
    "lung_features = np.concatenate(lung_npy_list, axis=0)\n",
    "\n",
    "print(lung_features.shape)"
   ]
  },
  {
   "attachments": {},
   "cell_type": "markdown",
   "metadata": {},
   "source": [
    "## divide the data\n",
    "- vessel divide into 15 parts\n",
    "- lung divide into 32 parts"
   ]
  },
  {
   "cell_type": "code",
   "execution_count": 7,
   "metadata": {},
   "outputs": [],
   "source": [
    "# shuffle the rows of the array\n",
    "np.random.shuffle(vessel_features)\n",
    "np.random.shuffle(lung_features)\n",
    "\n",
    "# divide vessel features into 15 parts\n",
    "vessel_parts = np.array_split(vessel_features, 15)\n",
    "\n",
    "# divide lung features into 32 parts\n",
    "lung_parts = np.array_split(lung_features, 32)\n",
    "\n",
    "# generate 15 parts traning data\n",
    "train15 =[]\n",
    "for i in range (15):\n",
    "    combined = np.concatenate((vessel_parts[i], lung_parts[i], nodule_features), axis=0)\n",
    "    train15.append(combined)\n"
   ]
  },
  {
   "attachments": {},
   "cell_type": "markdown",
   "metadata": {},
   "source": [
    "## load testing data"
   ]
  },
  {
   "cell_type": "code",
   "execution_count": 8,
   "metadata": {},
   "outputs": [
    {
     "name": "stdout",
     "output_type": "stream",
     "text": [
      "(2814212, 6)\n"
     ]
    }
   ],
   "source": [
    "from sklearn.ensemble import RandomForestClassifier\n",
    "from sklearn.model_selection import train_test_split\n",
    "from sklearn.metrics import accuracy_score\n",
    "import numpy as np\n",
    "\n",
    "# load testing data\n",
    "testing_dir = \"data/cross_validation/folder1/test\"\n",
    "\n",
    "npy_files = os.listdir(testing_dir)\n",
    "testing_npy_files = [f for f in npy_files if f.endswith(\"features.npy\")]\n",
    "\n",
    "testing_npy_list = []\n",
    "for npy_file in testing_npy_files:\n",
    "    npy_path = os.path.join(testing_dir, npy_file)\n",
    "    npy_array = np.load(npy_path)\n",
    "    testing_npy_list.append(npy_array)\n",
    "\n",
    "testing_features = np.concatenate(testing_npy_list, axis=0)\n",
    "\n",
    "print(testing_features.shape)"
   ]
  },
  {
   "attachments": {},
   "cell_type": "markdown",
   "metadata": {},
   "source": [
    "### training randomforest"
   ]
  },
  {
   "cell_type": "code",
   "execution_count": null,
   "metadata": {},
   "outputs": [],
   "source": [
    "from joblib import dump\n",
    "\n",
    "acc_list = []\n",
    "\n",
    "for i in range(15):\n",
    "    \n",
    "    train = train15[i]\n",
    "\n",
    "    X_train = train[:, :-1]\n",
    "    X_test = testing_features[:, :-1]\n",
    "    y_train = train[:, -1]\n",
    "    y_test = testing_features[:, -1]\n",
    "\n",
    "\n",
    "    # create a random forest classifier and fit it to the training data\n",
    "    rf = RandomForestClassifier()\n",
    "    rf.fit(X_train, y_train)\n",
    "\n",
    "    # use the trained model to predict on the testing data\n",
    "    y_pred = rf.predict(X_test)\n",
    "\n",
    "    # calculate the accuracy of the model\n",
    "    accuracy = accuracy_score(y_test, y_pred)\n",
    "    print(str(i) + '_Accuracy:', accuracy)\n",
    "\n",
    "    acc_list.append(accuracy)\n",
    "\n",
    "    dump(rf, str(i) + '_random_forest_'+ str(round(accuracy, 5)) +'.joblib')\n"
   ]
  },
  {
   "attachments": {},
   "cell_type": "markdown",
   "metadata": {},
   "source": [
    "### confusing matrix"
   ]
  },
  {
   "cell_type": "code",
   "execution_count": 14,
   "metadata": {},
   "outputs": [],
   "source": [
    "from sklearn.metrics import confusion_matrix\n",
    "import matplotlib.pyplot as plt\n",
    "\n",
    "# load testing data\n",
    "npy_files = os.listdir(testing_dir)\n",
    "testing_npy_files = [f for f in npy_files if f.endswith(\".npy\")]\n",
    "\n",
    "testing_npy_list = []\n",
    "for npy_file in testing_npy_files:\n",
    "    npy_path = os.path.join(testing_dir, npy_file)\n",
    "    npy_array = np.load(npy_path)\n",
    "    testing_npy_list.append(npy_array)\n",
    "\n",
    "testing_features = np.concatenate(testing_npy_list, axis=0)\n",
    "\n",
    "X_test = testing_features[:, :-1]\n",
    "y_test = testing_features[:, -1]\n"
   ]
  },
  {
   "cell_type": "code",
   "execution_count": 15,
   "metadata": {},
   "outputs": [
    {
     "name": "stdout",
     "output_type": "stream",
     "text": [
      "[[2355916   59057   82393]\n",
      " [ 234918   42044   27550]\n",
      " [   3615    3355    5364]]\n"
     ]
    }
   ],
   "source": [
    "\n",
    "# Calculate confusion matrix\n",
    "cm = confusion_matrix(y_test, y_pred)\n",
    "\n",
    "print(cm)"
   ]
  },
  {
   "cell_type": "code",
   "execution_count": 18,
   "metadata": {},
   "outputs": [
    {
     "data": {
      "text/plain": [
       "0.5651045889411384"
      ]
     },
     "execution_count": 18,
     "metadata": {},
     "output_type": "execute_result"
    }
   ],
   "source": [
    "fpr = (cm[2, 0] + cm[2, 1]) / (cm[2, 2] +cm[2, 0] + cm[2, 1])\n",
    "fpr"
   ]
  }
 ],
 "metadata": {
  "kernelspec": {
   "display_name": "Python 3",
   "language": "python",
   "name": "python3"
  },
  "language_info": {
   "codemirror_mode": {
    "name": "ipython",
    "version": 3
   },
   "file_extension": ".py",
   "mimetype": "text/x-python",
   "name": "python",
   "nbconvert_exporter": "python",
   "pygments_lexer": "ipython3",
   "version": "3.10.3"
  },
  "orig_nbformat": 4
 },
 "nbformat": 4,
 "nbformat_minor": 2
}
