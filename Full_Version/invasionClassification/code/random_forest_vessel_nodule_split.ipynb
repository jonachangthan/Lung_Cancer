{
 "cells": [
  {
   "attachments": {},
   "cell_type": "markdown",
   "metadata": {},
   "source": [
    "## down sampling the features"
   ]
  },
  {
   "attachments": {},
   "cell_type": "markdown",
   "metadata": {},
   "source": [
    "#### read folder 1 training nodule features"
   ]
  },
  {
   "cell_type": "code",
   "execution_count": 9,
   "metadata": {},
   "outputs": [
    {
     "name": "stdout",
     "output_type": "stream",
     "text": [
      "(75467, 6)\n"
     ]
    }
   ],
   "source": [
    "import numpy as np\n",
    "import os\n",
    "\n",
    "# Path to directory containing .npy files\n",
    "training_dir = \"data/cross_validation/folder1/train\"\n",
    "\n",
    "# List all .npy files in directory\n",
    "npy_files = os.listdir(training_dir)\n",
    "nodule_npy_files = [f for f in npy_files if f.endswith(\"nodule_features.npy\")]\n",
    "\n",
    "# Load each .npy file and store in a list\n",
    "nodule_npy_list = []\n",
    "for npy_file in nodule_npy_files:\n",
    "    npy_path = os.path.join(training_dir, npy_file)\n",
    "    npy_array = np.load(npy_path)\n",
    "    nodule_npy_list.append(npy_array)\n",
    "\n",
    "# Combine the list of numpy arrays into a single numpy array\n",
    "nodule_features = np.concatenate(nodule_npy_list, axis=0)\n",
    "\n",
    "print(nodule_features.shape)\n"
   ]
  },
  {
   "attachments": {},
   "cell_type": "markdown",
   "metadata": {},
   "source": [
    "#### read vessel featrues"
   ]
  },
  {
   "cell_type": "code",
   "execution_count": 10,
   "metadata": {},
   "outputs": [
    {
     "name": "stdout",
     "output_type": "stream",
     "text": [
      "(1206799, 6)\n"
     ]
    }
   ],
   "source": [
    "# List all .npy files in directory\n",
    "npy_files = os.listdir(training_dir)\n",
    "vessel_npy_files = [f for f in npy_files if f.endswith(\"vessel_features.npy\")]\n",
    "\n",
    "# Load each .npy file and store in a list\n",
    "vessel_npy_list = []\n",
    "for npy_file in vessel_npy_files:\n",
    "    npy_path = os.path.join(training_dir, npy_file)\n",
    "    npy_array = np.load(npy_path)\n",
    "    vessel_npy_list.append(npy_array)\n",
    "\n",
    "# Combine the list of numpy arrays into a single numpy array\n",
    "vessel_features = np.concatenate(vessel_npy_list, axis=0)\n",
    "\n",
    "print(vessel_features.shape)"
   ]
  },
  {
   "attachments": {},
   "cell_type": "markdown",
   "metadata": {},
   "source": [
    "## divide the data\n",
    "- vessel divide into 15 parts"
   ]
  },
  {
   "cell_type": "code",
   "execution_count": 11,
   "metadata": {},
   "outputs": [],
   "source": [
    "# shuffle the rows of the array in place\n",
    "np.random.shuffle(vessel_features)"
   ]
  },
  {
   "cell_type": "code",
   "execution_count": 12,
   "metadata": {},
   "outputs": [],
   "source": [
    "# divide vessel features into 15 parts\n",
    "vessel_parts = np.array_split(vessel_features, 15)\n",
    "\n",
    "# generate 15 parts traning data\n",
    "train15 =[]\n",
    "for i in range (15):\n",
    "    combined = np.concatenate((vessel_parts[i], nodule_features), axis=0)\n",
    "    train15.append(combined)\n"
   ]
  },
  {
   "attachments": {},
   "cell_type": "markdown",
   "metadata": {},
   "source": [
    "## load testing data (only load nodules and vessel)"
   ]
  },
  {
   "cell_type": "code",
   "execution_count": 13,
   "metadata": {},
   "outputs": [],
   "source": [
    "from sklearn.ensemble import RandomForestClassifier\n",
    "from sklearn.model_selection import train_test_split\n",
    "from sklearn.metrics import accuracy_score\n",
    "import numpy as np\n",
    "\n",
    "# load testing data\n",
    "testing_dir = \"data/cross_validation/folder1/test\"\n",
    "\n",
    "npy_files = os.listdir(testing_dir)\n",
    "testing_npy_files = [f for f in npy_files if (f.endswith(\"nodule_features.npy\") or f.endswith(\"vessel_features.npy\"))]\n",
    "\n",
    "testing_npy_list = []\n",
    "for npy_file in testing_npy_files:\n",
    "    npy_path = os.path.join(testing_dir, npy_file)\n",
    "    npy_array = np.load(npy_path)\n",
    "    testing_npy_list.append(npy_array)\n",
    "\n",
    "testing_features = np.concatenate(testing_npy_list, axis=0)\n",
    "\n",
    "X_test = testing_features[:, :-1]\n",
    "y_test = testing_features[:, -1]\n",
    "\n",
    "# adjsut label vessel : 0 and nodule : 1\n",
    "y_test -= 1"
   ]
  },
  {
   "attachments": {},
   "cell_type": "markdown",
   "metadata": {},
   "source": [
    "### training random forest"
   ]
  },
  {
   "cell_type": "code",
   "execution_count": 14,
   "metadata": {},
   "outputs": [
    {
     "name": "stdout",
     "output_type": "stream",
     "text": [
      "0_Accuracy: 0.8550809931296677\n",
      "1_Accuracy: 0.8564846432494185\n",
      "2_Accuracy: 0.8577592582684749\n",
      "3_Accuracy: 0.8538850580500593\n",
      "4_Accuracy: 0.8529944011355088\n",
      "5_Accuracy: 0.8527709501074768\n",
      "6_Accuracy: 0.8559842388345298\n",
      "7_Accuracy: 0.8512382648870314\n",
      "8_Accuracy: 0.8541714530296497\n",
      "9_Accuracy: 0.8579984452843965\n",
      "10_Accuracy: 0.858206160324539\n",
      "11_Accuracy: 0.8588450414328561\n",
      "12_Accuracy: 0.8512791784555442\n",
      "13_Accuracy: 0.8548071869403889\n",
      "14_Accuracy: 0.8555719559518227\n"
     ]
    }
   ],
   "source": [
    "from joblib import dump\n",
    "\n",
    "acc_list = []\n",
    "\n",
    "for i in range(15):\n",
    "    \n",
    "    train = train15[i]\n",
    "    X_train = train[:, :-1]\n",
    "    y_train = train[:, -1]\n",
    "\n",
    "    # adjust label\n",
    "    y_train -= 1\n",
    "\n",
    "    # create a random forest classifier and fit it to the training data\n",
    "    rf = RandomForestClassifier()\n",
    "    rf.fit(X_train, y_train)\n",
    "\n",
    "    # use the trained model to predict on the testing data\n",
    "    y_pred = rf.predict(X_test)\n",
    "\n",
    "    # calculate the accuracy of the model\n",
    "    accuracy = accuracy_score(y_test, y_pred)\n",
    "    print(str(i) + '_Accuracy:', accuracy)\n",
    "\n",
    "    acc_list.append(accuracy)\n",
    "\n",
    "    dump(rf, str(i) + '_random_forest_'+ str(round(accuracy, 5)) +'.joblib')\n"
   ]
  },
  {
   "cell_type": "code",
   "execution_count": 15,
   "metadata": {},
   "outputs": [
    {
     "data": {
      "text/plain": [
       "0.8551384819387575"
      ]
     },
     "execution_count": 15,
     "metadata": {},
     "output_type": "execute_result"
    }
   ],
   "source": [
    "sum(acc_list) / len(acc_list)"
   ]
  },
  {
   "attachments": {},
   "cell_type": "markdown",
   "metadata": {},
   "source": [
    "## load model plot confusion matrix"
   ]
  },
  {
   "cell_type": "code",
   "execution_count": 22,
   "metadata": {},
   "outputs": [],
   "source": [
    "from sklearn.metrics import confusion_matrix\n",
    "import matplotlib.pyplot as plt\n",
    "import numpy as np\n",
    "import joblib\n",
    "import os\n",
    "from sklearn.metrics import accuracy_score\n",
    "\n",
    "testing_dir = \"data/cross_validation/folder1/test\"\n",
    "\n",
    "# load testing data\n",
    "npy_files = os.listdir(testing_dir)\n",
    "testing_npy_files = [f for f in npy_files if (f.endswith(\"nodule_features.npy\") or f.endswith(\"vessel_features.npy\"))]\n",
    "\n",
    "testing_npy_list = []\n",
    "for npy_file in testing_npy_files:\n",
    "    npy_path = os.path.join(testing_dir, npy_file)\n",
    "    npy_array = np.load(npy_path)\n",
    "    testing_npy_list.append(npy_array)\n",
    "\n",
    "testing_features = np.concatenate(testing_npy_list, axis=0)\n",
    "\n",
    "X_test = testing_features[:, :-1]\n",
    "y_test = testing_features[:, -1]\n",
    "\n",
    "y_test -= 1\n",
    "\n",
    "# load rf model\n",
    "rf = joblib.load(\"vn/0_random_forest_0.8503.joblib\")"
   ]
  },
  {
   "cell_type": "code",
   "execution_count": 27,
   "metadata": {},
   "outputs": [
    {
     "name": "stdout",
     "output_type": "stream",
     "text": [
      "[[261905  42607]\n",
      " [  4824   7510]]\n",
      "fpr:  0.3911139938381709\n"
     ]
    }
   ],
   "source": [
    "# generate predictions on the test set\n",
    "y_pred = rf.predict(X_test)\n",
    "\n",
    "cm = confusion_matrix(y_test, y_pred)\n",
    "print(cm)\n",
    "\n",
    "fpr = cm[1][0] / (cm[1][1]+cm[1][0])\n",
    "print(\"fpr: \", fpr)"
   ]
  }
 ],
 "metadata": {
  "kernelspec": {
   "display_name": "Python 3",
   "language": "python",
   "name": "python3"
  },
  "language_info": {
   "codemirror_mode": {
    "name": "ipython",
    "version": 3
   },
   "file_extension": ".py",
   "mimetype": "text/x-python",
   "name": "python",
   "nbconvert_exporter": "python",
   "pygments_lexer": "ipython3",
   "version": "3.10.3"
  },
  "orig_nbformat": 4
 },
 "nbformat": 4,
 "nbformat_minor": 2
}
