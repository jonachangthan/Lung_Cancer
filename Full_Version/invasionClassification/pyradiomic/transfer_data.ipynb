{
 "cells": [
  {
   "cell_type": "code",
   "execution_count": 2,
   "metadata": {},
   "outputs": [],
   "source": [
    "import SimpleITK as sitk\n",
    "import os\n",
    "import matplotlib.pyplot as plt\n",
    "import pydicom\n",
    "import numpy as np\n",
    "import nrrd\n",
    "from mpl_toolkits.mplot3d import Axes3D\n",
    "import scipy.ndimage as ndimage\n",
    "import cv2\n",
    "import pandas as pd"
   ]
  },
  {
   "cell_type": "code",
   "execution_count": null,
   "metadata": {},
   "outputs": [],
   "source": [
    "def process_CT():\n",
    "    patient = pd.read_csv()"
   ]
  },
  {
   "cell_type": "code",
   "execution_count": 2,
   "metadata": {},
   "outputs": [],
   "source": [
    "resort_folder = '../resort/New_14筆/DICOMD/SE4/' #?病人的ct圖資料夾路徑\n",
    "resort_mask_folder = '../腫瘤資料/mask/New_14/DICOMD/' #?其遮罩資料夾的路徑"
   ]
  },
  {
   "cell_type": "code",
   "execution_count": 5,
   "metadata": {},
   "outputs": [],
   "source": [
    "ct = pydicom.read_file('../resort/New_14筆/DICOMD/SE4/000_IM0').pixel_array"
   ]
  },
  {
   "attachments": {},
   "cell_type": "markdown",
   "metadata": {},
   "source": [
    "## CT圖\n",
    "    因為dicom裡面的陣列都是二維的，所以可以把他寫進一個三維的陣列裡面"
   ]
  },
  {
   "cell_type": "code",
   "execution_count": 13,
   "metadata": {},
   "outputs": [],
   "source": [
    "#? 宣告存放dicom的陣列\n",
    "dicom_arr = np.zeros((len(os.listdir(resort_folder)) , 512 , 512) , dtype=np.uint8)"
   ]
  },
  {
   "cell_type": "code",
   "execution_count": 21,
   "metadata": {},
   "outputs": [],
   "source": [
    "#? 逐一將dicom裡面的陣列寫入dicom_arr裡面\n",
    "index = 0\n",
    "for dicom in os.listdir(resort_folder):\n",
    "    ct = pydicom.read_file(os.path.join(resort_folder , dicom)).pixel_array #?讀取dicom裡的陣列\n",
    "    ct = (ct - ct.min()) / (ct.max() - ct.min()) * 255 #?正規化，使陣列的值都在0~255的範圍\n",
    "    dicom_arr[index , : , :] = ct #?寫入dicom_arr\n",
    "    index += 1"
   ]
  },
  {
   "cell_type": "code",
   "execution_count": 22,
   "metadata": {},
   "outputs": [],
   "source": [
    "nrrd.write('../dicomd.nrrd' , dicom_arr) #?轉成nrrd，路徑名稱自行更改"
   ]
  },
  {
   "attachments": {},
   "cell_type": "markdown",
   "metadata": {},
   "source": [
    "## MASK\n",
    "    跟上面原理一樣，npy其實也是陣列，把二維的陣列放到三維的陣列裡面"
   ]
  },
  {
   "cell_type": "code",
   "execution_count": 31,
   "metadata": {},
   "outputs": [],
   "source": [
    "#? 宣告存放npy的陣列\n",
    "mask_arr = np.zeros((len(os.listdir(resort_folder)) , 512 , 512) , dtype=np.uint8)"
   ]
  },
  {
   "cell_type": "code",
   "execution_count": 32,
   "metadata": {},
   "outputs": [],
   "source": [
    "#? 逐一將npy寫入mask_arr裡面\n",
    "for mask in os.listdir(resort_mask_folder):\n",
    "    #? 因為mask的資料就只有放有腫瘤的npy，所以只要挑有腫瘤的index去改值就好\n",
    "    mask_arr[int(mask.split('.')[0]) - 1 , : , :] = np.load(os.path.join(resort_mask_folder , mask))"
   ]
  },
  {
   "cell_type": "code",
   "execution_count": 34,
   "metadata": {},
   "outputs": [],
   "source": [
    "nrrd.write('../dicomd_mask.nrrd' , mask_arr) #?轉成nrrd，路徑名稱自行更改"
   ]
  }
 ],
 "metadata": {
  "kernelspec": {
   "display_name": "Python 3",
   "language": "python",
   "name": "python3"
  },
  "language_info": {
   "codemirror_mode": {
    "name": "ipython",
    "version": 3
   },
   "file_extension": ".py",
   "mimetype": "text/x-python",
   "name": "python",
   "nbconvert_exporter": "python",
   "pygments_lexer": "ipython3",
   "version": "3.10.8"
  },
  "orig_nbformat": 4,
  "vscode": {
   "interpreter": {
    "hash": "2e636bcd6522c18138dbfbced63b295d80f2d7b880e1e03c7e34fdf1b6ec96cb"
   }
  }
 },
 "nbformat": 4,
 "nbformat_minor": 2
}
